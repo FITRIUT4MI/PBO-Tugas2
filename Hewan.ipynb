{
  "nbformat": 4,
  "nbformat_minor": 0,
  "metadata": {
    "colab": {
      "provenance": [],
      "authorship_tag": "ABX9TyMxhDendYfo6d/ri/in40bk",
      "include_colab_link": true
    },
    "kernelspec": {
      "name": "python3",
      "display_name": "Python 3"
    },
    "language_info": {
      "name": "python"
    }
  },
  "cells": [
    {
      "cell_type": "markdown",
      "metadata": {
        "id": "view-in-github",
        "colab_type": "text"
      },
      "source": [
        "<a href=\"https://colab.research.google.com/github/FITRIUT4MI/PBO-Tugas2/blob/main/Hewan.ipynb\" target=\"_parent\"><img src=\"https://colab.research.google.com/assets/colab-badge.svg\" alt=\"Open In Colab\"/></a>"
      ]
    },
    {
      "cell_type": "code",
      "execution_count": 1,
      "metadata": {
        "colab": {
          "base_uri": "https://localhost:8080/"
        },
        "id": "QuSc2s-QDJld",
        "outputId": "f6f33a82-fedf-4326-8fd1-ff849e735968"
      },
      "outputs": [
        {
          "output_type": "stream",
          "name": "stdout",
          "text": [
            "Kucing bersuara Meong\n"
          ]
        }
      ],
      "source": [
        "class Hewan:\n",
        "    def __init__(self, jenis, suara):\n",
        "        self.jenis = jenis\n",
        "        self.suara = suara\n",
        "\n",
        "    def bersuara(self):\n",
        "        return f\"{self.jenis} bersuara {self.suara}\"\n",
        "\n",
        "kucing = Hewan(\"Kucing\", \"Meong\")\n",
        "print(kucing.bersuara())"
      ]
    }
  ]
}