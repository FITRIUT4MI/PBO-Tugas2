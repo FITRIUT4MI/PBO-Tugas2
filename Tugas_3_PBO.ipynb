{
  "nbformat": 4,
  "nbformat_minor": 0,
  "metadata": {
    "colab": {
      "provenance": [],
      "authorship_tag": "ABX9TyPcT1jUV528rd40nZE+m1Ph",
      "include_colab_link": true
    },
    "kernelspec": {
      "name": "python3",
      "display_name": "Python 3"
    },
    "language_info": {
      "name": "python"
    }
  },
  "cells": [
    {
      "cell_type": "markdown",
      "metadata": {
        "id": "view-in-github",
        "colab_type": "text"
      },
      "source": [
        "<a href=\"https://colab.research.google.com/github/FITRIUT4MI/PBO-Tugas2/blob/main/Tugas_3_PBO.ipynb\" target=\"_parent\"><img src=\"https://colab.research.google.com/assets/colab-badge.svg\" alt=\"Open In Colab\"/></a>"
      ]
    },
    {
      "cell_type": "code",
      "execution_count": 3,
      "metadata": {
        "colab": {
          "base_uri": "https://localhost:8080/"
        },
        "id": "YxOzCp0GRvzV",
        "outputId": "17526dfc-630e-4eea-8476-ac2dd6922a6d"
      },
      "outputs": [
        {
          "output_type": "stream",
          "name": "stdout",
          "text": [
            "budi details:\n",
            "rambut: ikal\n",
            "warna rambut: hitam\n",
            "michael details:\n",
            "rambut: lurus\n",
            "warna rambut: pirang\n"
          ]
        }
      ],
      "source": [
        "class  person:\n",
        "  def __init__ (self, rambut, warna):\n",
        "    self.rambut = rambut\n",
        "    self.warna = warna\n",
        "\n",
        "budi = person(\"ikal\", \"hitam\")\n",
        "michael = person (\"lurus\", \"pirang\")\n",
        "\n",
        "print('budi details:')\n",
        "print('rambut:', budi.rambut)\n",
        "print('warna rambut:', budi.warna)\n",
        "\n",
        "print('michael details:')\n",
        "print('rambut:', michael.rambut)\n",
        "print('warna rambut:', michael.warna)\n",
        ""
      ]
    }
  ]
}