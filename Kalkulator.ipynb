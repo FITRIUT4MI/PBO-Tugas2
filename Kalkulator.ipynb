{
  "nbformat": 4,
  "nbformat_minor": 0,
  "metadata": {
    "colab": {
      "provenance": [],
      "authorship_tag": "ABX9TyOrGLTPHwkQSqVZXfafXsEL",
      "include_colab_link": true
    },
    "kernelspec": {
      "name": "python3",
      "display_name": "Python 3"
    },
    "language_info": {
      "name": "python"
    }
  },
  "cells": [
    {
      "cell_type": "markdown",
      "metadata": {
        "id": "view-in-github",
        "colab_type": "text"
      },
      "source": [
        "<a href=\"https://colab.research.google.com/github/FITRIUT4MI/PBO-Tugas2/blob/main/Kalkulator.ipynb\" target=\"_parent\"><img src=\"https://colab.research.google.com/assets/colab-badge.svg\" alt=\"Open In Colab\"/></a>"
      ]
    },
    {
      "cell_type": "code",
      "execution_count": 1,
      "metadata": {
        "colab": {
          "base_uri": "https://localhost:8080/"
        },
        "id": "5t915z79DTsU",
        "outputId": "b92f7417-0dbb-48bf-cd03-9e3530aeae49"
      },
      "outputs": [
        {
          "output_type": "stream",
          "name": "stdout",
          "text": [
            "8\n",
            "6\n"
          ]
        }
      ],
      "source": [
        "class Kalkulator:\n",
        "    def tambah(self, a, b):\n",
        "        return a + b\n",
        "\n",
        "    def kurang(self, a, b):\n",
        "        return a - b\n",
        "\n",
        "calc = Kalkulator()\n",
        "print(calc.tambah(5, 3))\n",
        "print(calc.kurang(10, 4))"
      ]
    }
  ]
}